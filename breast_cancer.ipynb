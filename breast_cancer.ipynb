{
 "cells": [
  {
   "cell_type": "code",
   "execution_count": 1,
   "metadata": {
    "collapsed": true
   },
   "outputs": [],
   "source": [
    "import numpy as np\n",
    "from matplotlib import pyplot as plt\n",
    "import tensorflow as tf"
   ]
  },
  {
   "cell_type": "code",
   "execution_count": 2,
   "metadata": {
    "collapsed": true
   },
   "outputs": [],
   "source": [
    "np.random.seed(0)"
   ]
  },
  {
   "cell_type": "code",
   "execution_count": 3,
   "metadata": {
    "collapsed": true
   },
   "outputs": [],
   "source": [
    "#Read data from fie\n",
    "data = np.genfromtxt(\"breast-cancer.data\", delimiter=\",\", missing_values=\"?\", filling_values=1.)\n",
    "\n",
    "#Separate the X\n",
    "dataX = data[:, 1:-1]\n",
    "#Separate the Y\n",
    "pre_dataY = data[:, -1]\n",
    "#Convert the Y to one hot\n",
    "dataY = np.zeros((pre_dataY.size, 2))\n",
    "\n",
    "for i in range(len(pre_dataY)):\n",
    "    if pre_dataY[i] == 2:\n",
    "        dataY[i][0] = 1\n",
    "    else:\n",
    "        dataY[i][1] = 1"
   ]
  },
  {
   "cell_type": "code",
   "execution_count": 4,
   "metadata": {
    "collapsed": true
   },
   "outputs": [],
   "source": [
    "#Mix up the data\n",
    "permutation = np.random.permutation(dataX.shape[0])\n",
    "dataX = dataX[permutation]\n",
    "dataY = dataY[permutation]"
   ]
  },
  {
   "cell_type": "code",
   "execution_count": 5,
   "metadata": {
    "collapsed": true
   },
   "outputs": [],
   "source": [
    "#Set network variables and hyperparameters\n",
    "nIn = 9\n",
    "nHidden = 25\n",
    "nOut = 2\n",
    "alpha = 0.01\n",
    "nEpochs = 100\n",
    "testSplit = 0.15\n",
    "batchSize = 64"
   ]
  },
  {
   "cell_type": "code",
   "execution_count": 6,
   "metadata": {
    "collapsed": true
   },
   "outputs": [],
   "source": [
    "#Create palceholder for X and Y\n",
    "X = tf.placeholder(shape=[None, nIn], dtype=tf.float32)\n",
    "Y = tf.placeholder(shape=[None, nOut], dtype=tf.float32)"
   ]
  },
  {
   "cell_type": "code",
   "execution_count": 7,
   "metadata": {
    "collapsed": true
   },
   "outputs": [],
   "source": [
    "#Initialize wieghts and biases\n",
    "weights = {\"W1\": tf.Variable(tf.random_normal([nIn, nHidden]) * 0.5),\n",
    "           \"W2\": tf.Variable(tf.random_normal([nHidden, nOut]) * 0.5)}\n",
    "\n",
    "biases = {\"b1\": tf.Variable(tf.zeros([nHidden])),\n",
    "           \"b2\": tf.Variable(tf.zeros([nOut]))}"
   ]
  },
  {
   "cell_type": "code",
   "execution_count": 8,
   "metadata": {
    "collapsed": true
   },
   "outputs": [],
   "source": [
    "#Forward propogation\n",
    "def nn_forward(X):\n",
    "    \n",
    "    layer2 = tf.nn.bias_add(tf.matmul(X, weights[\"W1\"]), biases[\"b1\"])\n",
    "    layer2 = tf.nn.sigmoid(layer2)\n",
    "    \n",
    "    out = tf.nn.bias_add(tf.matmul(layer2, weights[\"W2\"]), biases[\"b2\"])\n",
    "    \n",
    "    return out"
   ]
  },
  {
   "cell_type": "code",
   "execution_count": 9,
   "metadata": {
    "collapsed": true
   },
   "outputs": [],
   "source": [
    "#Network prediction\n",
    "pred = nn_forward(X)\n",
    "#Loss/Cost\n",
    "cost = tf.reduce_mean(tf.nn.softmax_cross_entropy_with_logits(logits=pred, labels=Y))\n",
    "#Backpropagation & Network updates\n",
    "optimizer = tf.train.AdamOptimizer(learning_rate=alpha).minimize(cost)\n",
    "accuracy = tf.reduce_mean(tf.cast(tf.equal(tf.argmax(pred, axis=1), tf.argmax(Y, axis=1)), tf.float32))"
   ]
  },
  {
   "cell_type": "code",
   "execution_count": 10,
   "metadata": {
    "collapsed": true
   },
   "outputs": [],
   "source": [
    "#Number of data points used for testing\n",
    "num_test = int(testSplit * len(data))\n",
    "\n",
    "#Split data into train and  test\n",
    "trainX = dataX[:-num_test]\n",
    "testX = dataX[-num_test:]\n",
    "\n",
    "trainY = dataY[:-num_test]\n",
    "testY = dataY[-num_test:]"
   ]
  },
  {
   "cell_type": "code",
   "execution_count": 11,
   "metadata": {},
   "outputs": [
    {
     "name": "stdout",
     "output_type": "stream",
     "text": [
      "Epoch 0 Loss: 0.5514581203460693\n",
      "\tAccuracy: 0.04567901351385646\n",
      "Epoch 10 Loss: 0.08238258957862854\n",
      "\tAccuracy: 0.867901243435012\n",
      "Epoch 20 Loss: 0.031671714037656784\n",
      "\tAccuracy: 0.9407407442728678\n",
      "Epoch 30 Loss: 0.01445817481726408\n",
      "\tAccuracy: 0.9987654321723514\n",
      "Epoch 40 Loss: 0.00760691286996007\n",
      "\tAccuracy: 1.0\n",
      "Epoch 50 Loss: 0.004500939976423979\n",
      "\tAccuracy: 1.0\n",
      "Epoch 60 Loss: 0.002764546312391758\n",
      "\tAccuracy: 1.0\n",
      "Epoch 70 Loss: 0.0018367072334513068\n",
      "\tAccuracy: 1.0\n",
      "Epoch 80 Loss: 0.0013069406850263476\n",
      "\tAccuracy: 1.0\n",
      "Epoch 90 Loss: 0.0009655507165007293\n",
      "\tAccuracy: 1.0\n"
     ]
    },
    {
     "data": {
      "image/png": "[encoded data removed]",
      "text/plain": [
       "<matplotlib.figure.Figure at 0x16ed5a134e0>"
      ]
     },
     "metadata": {},
     "output_type": "display_data"
    },
    {
     "name": "stdout",
     "output_type": "stream",
     "text": [
      "Final Accuracy: 0.961538553237915\n"
     ]
    }
   ],
   "source": [
    "losses = []\n",
    "displayStride = 10\n",
    "num_batches = len(trainX)//batchSize\n",
    "\n",
    "with tf.Session() as sess:\n",
    "    sess.run(tf.global_variables_initializer())\n",
    "\n",
    "    correct = 0\n",
    "    for j in range(nEpochs):\n",
    "        for i in range(num_batches):\n",
    "            lowerBound = i * num_batches\n",
    "            upperBound = min((i+1) * num_batches, len(trainX))\n",
    "            \n",
    "            loss, acc, _ = sess.run([cost, accuracy, optimizer], \n",
    "                                         feed_dict={X: trainX[lowerBound:upperBound].reshape(-1, nIn), \n",
    "                                                    Y: trainY[lowerBound:upperBound].reshape(-1, nOut)})\n",
    "            correct += acc\n",
    "        if j % displayStride == 0:\n",
    "            acc = correct / (displayStride * num_batches)\n",
    "            print(\"Epoch {} Loss: {}\\n\\tAccuracy: {}\".format(j, loss, acc))\n",
    "            correct = 0\n",
    "        if j % 5 == 0:\n",
    "            losses.append(loss)\n",
    "\n",
    "    plt.plot(losses)\n",
    "    plt.show()\n",
    "\n",
    "    print(\"Final Accuracy: {}\".format(sess.run(accuracy, feed_dict={X: testX.reshape(-1, nIn), Y: testY.reshape(-1, nOut)})))"
   ]
  }
 ],
 "metadata": {
  "kernelspec": {
   "display_name": "Python 3",
   "language": "python",
   "name": "python3"
  },
  "language_info": {
   "codemirror_mode": {
    "name": "ipython",
    "version": 3
   },
   "file_extension": ".py",
   "mimetype": "text/x-python",
   "name": "python",
   "nbconvert_exporter": "python",
   "pygments_lexer": "ipython3",
   "version": "3.5.0"
  }
 },
 "nbformat": 4,
 "nbformat_minor": 2
}

{
 "cells": [
  {
   "cell_type": "code",
   "execution_count": 1,
   "metadata": {
    "collapsed": true
   },
   "outputs": [],
   "source": [
    "import numpy as np\n",
    "from matplotlib import pyplot as plt\n",
    "from sklearn import datasets\n",
    "import tensorflow as tf"
   ]
  },
  {
   "cell_type": "code",
   "execution_count": 2,
   "metadata": {
    "collapsed": true
   },
   "outputs": [],
   "source": [
    "np.random.seed(0)"
   ]
  },
  {
   "cell_type": "code",
   "execution_count": 3,
   "metadata": {
    "collapsed": true
   },
   "outputs": [],
   "source": [
    "def converter(x):\n",
    "    if x == 2:\n",
    "        return [1, 0]\n",
    "    else:\n",
    "        return [0, 1]\n",
    "    \n",
    "vconverter = np.vectorize(converter)\n",
    "\n",
    "data = np.genfromtxt(\"breast-cancer.data\", delimiter=\",\", missing_values=\"?\", filling_values=1.)\n",
    "\n",
    "dataX = data[:, 1:-1]\n",
    "pre_dataY = data[:, -1]\n",
    "dataY = np.zeros((pre_dataY.size, 2))\n",
    "\n",
    "for i in range(len(pre_dataY)):\n",
    "    if pre_dataY[i] == 2:\n",
    "        dataY[i][0] = 1\n",
    "    else:\n",
    "        dataY[i][1] = 1"
   ]
  },
  {
   "cell_type": "code",
   "execution_count": 4,
   "metadata": {
    "collapsed": true
   },
   "outputs": [],
   "source": [
    "permutation = np.random.permutation(dataX.shape[0])\n",
    "dataX = dataX[permutation]\n",
    "dataY = dataY[permutation]"
   ]
  },
  {
   "cell_type": "code",
   "execution_count": 5,
   "metadata": {},
   "outputs": [],
   "source": [
    "nIn = 9\n",
    "nHidden = 25\n",
    "nOut = 2\n",
    "alpha = 0.01\n",
    "nEpochs = 100\n",
    "testSplit = 0.15\n",
    "batchSize = 64"
   ]
  },
  {
   "cell_type": "code",
   "execution_count": 6,
   "metadata": {
    "collapsed": true
   },
   "outputs": [],
   "source": [
    "X = tf.placeholder(shape=[None, nIn], dtype=tf.float32)\n",
    "Y = tf.placeholder(shape=[None, nOut], dtype=tf.float32)"
   ]
  },
  {
   "cell_type": "code",
   "execution_count": 7,
   "metadata": {
    "collapsed": true
   },
   "outputs": [],
   "source": [
    "def nn_forward(X, weights, biases):\n",
    "    \n",
    "    layer2 = tf.nn.bias_add(tf.matmul(X, weights[\"W1\"]), biases[\"b1\"])\n",
    "    layer2 = tf.nn.sigmoid(layer2)\n",
    "    \n",
    "    out = tf.nn.bias_add(tf.matmul(layer2, weights[\"W2\"]), biases[\"b2\"])\n",
    "    out = tf.nn.sigmoid(out)\n",
    "    \n",
    "    return out"
   ]
  },
  {
   "cell_type": "code",
   "execution_count": 8,
   "metadata": {},
   "outputs": [],
   "source": [
    "weights = {\"W1\": tf.Variable(tf.random_normal([nIn, nHidden]) * 0.5),\n",
    "           \"W2\": tf.Variable(tf.random_normal([nHidden, nOut]) * 0.5)}\n",
    "\n",
    "biases = {\"b1\": tf.Variable(tf.zeros([nHidden])),\n",
    "           \"b2\": tf.Variable(tf.zeros([nOut]))}"
   ]
  },
  {
   "cell_type": "code",
   "execution_count": 9,
   "metadata": {},
   "outputs": [],
   "source": [
    "pred = nn_forward(X, weights, biases)\n",
    "cost = tf.reduce_mean(tf.nn.softmax_cross_entropy_with_logits(logits=pred, labels=Y))\n",
    "optimizer = tf.train.AdamOptimizer(learning_rate=alpha).minimize(cost)\n",
    "accuracy = tf.reduce_mean(tf.cast(tf.equal(tf.argmax(pred, axis=1), tf.argmax(Y, axis=1)), tf.float32))"
   ]
  },
  {
   "cell_type": "code",
   "execution_count": 10,
   "metadata": {
    "collapsed": true
   },
   "outputs": [],
   "source": [
    "sess = tf.Session()"
   ]
  },
  {
   "cell_type": "code",
   "execution_count": 11,
   "metadata": {
    "collapsed": true
   },
   "outputs": [],
   "source": [
    "def testAccuracy():\n",
    "    correct = 0\n",
    "    total = int(testSplit * len(dataX))\n",
    "\n",
    "    for i in range(total):\n",
    "        index = len(dataX) - int(testSplit * len(dataX)) + i\n",
    "        acc = sess.run(accuracy, feed_dict={X: dataX[index].reshape(-1, nIn), Y: dataY[index].reshape(-1, nOut)})\n",
    "        correct += acc\n",
    "\n",
    "    return correct/total"
   ]
  },
  {
   "cell_type": "code",
   "execution_count": 12,
   "metadata": {},
   "outputs": [
    {
     "name": "stdout",
     "output_type": "stream",
     "text": [
      "Epoch 0 Loss: 0.5742526054382324\n",
      "\tAccuracy: 0.0892436974789916\n",
      "Epoch 10 Loss: 0.35857540369033813\n",
      "\tAccuracy: 0.9541176470588235\n",
      "Epoch 20 Loss: 0.32294997572898865\n",
      "\tAccuracy: 0.9594957983193277\n",
      "Epoch 30 Loss: 0.314834326505661\n",
      "\tAccuracy: 0.9601680672268907\n",
      "Epoch 40 Loss: 0.31964346766471863\n",
      "\tAccuracy: 0.9670588235294117\n",
      "Epoch 50 Loss: 0.315621554851532\n",
      "\tAccuracy: 0.9721008403361344\n",
      "Epoch 60 Loss: 0.31449100375175476\n",
      "\tAccuracy: 0.9747899159663865\n",
      "Epoch 70 Loss: 0.3199068605899811\n",
      "\tAccuracy: 0.9757983193277311\n",
      "Epoch 80 Loss: 0.34842994809150696\n",
      "\tAccuracy: 0.9773109243697479\n",
      "Epoch 90 Loss: 0.3473445475101471\n",
      "\tAccuracy: 0.9808403361344538\n"
     ]
    },
    {
     "data": {
      "image/png": "[encoded data removed]",
      "text/plain": [
       "<matplotlib.figure.Figure at 0x24ed012e710>"
      ]
     },
     "metadata": {},
     "output_type": "display_data"
    },
    {
     "name": "stdout",
     "output_type": "stream",
     "text": [
      "Final Accuracy: 0.9711538461538461\n"
     ]
    }
   ],
   "source": [
    "losses = []\n",
    "\n",
    "#Using stochastic gradient descent\n",
    "sess.run(tf.global_variables_initializer())\n",
    "\n",
    "displayStride = 10\n",
    "\n",
    "correct = 0\n",
    "for j in range(nEpochs):\n",
    "    nTraining = dataX.shape[0]-int(testSplit * len(dataX))\n",
    "    for i in range(nTraining):\n",
    "        loss, acc, _ = sess.run([cost, accuracy, optimizer], \n",
    "                                     feed_dict={X: dataX[i].reshape(-1, nIn), Y: dataY[i].reshape(-1, nOut)})\n",
    "        correct += acc\n",
    "    if j % displayStride == 0:\n",
    "        acc = correct / (displayStride * nTraining)\n",
    "        print(\"Epoch {} Loss: {}\\n\\tAccuracy: {}\".format(j, loss, acc))\n",
    "        correct = 0\n",
    "        total = 0\n",
    "    if j % 5 == 0:\n",
    "        losses.append(loss)\n",
    "\n",
    "plt.plot(losses)\n",
    "plt.show()\n",
    "\n",
    "print(\"Final Accuracy: {}\".format(testAccuracy()))"
   ]
  },
  {
   "cell_type": "code",
   "execution_count": 13,
   "metadata": {},
   "outputs": [
    {
     "name": "stdout",
     "output_type": "stream",
     "text": [
      "Epoch 0 Loss: 0.6685041189193726\n",
      "\tAccuracy: 0.056638655452167286\n",
      "Epoch 10 Loss: 0.3895722031593323\n",
      "\tAccuracy: 0.8596638660771506\n",
      "Epoch 20 Loss: 0.34176403284072876\n",
      "\tAccuracy: 0.9573109243697479\n",
      "Epoch 30 Loss: 0.330363929271698\n",
      "\tAccuracy: 0.9650420168067226\n",
      "Epoch 40 Loss: 0.32535892724990845\n",
      "\tAccuracy: 0.9709243697478992\n",
      "Epoch 50 Loss: 0.32243120670318604\n",
      "\tAccuracy: 0.9761344537815126\n",
      "Epoch 60 Loss: 0.32059812545776367\n",
      "\tAccuracy: 0.9788235294117648\n",
      "Epoch 70 Loss: 0.31914591789245605\n",
      "\tAccuracy: 0.9815126050420168\n",
      "Epoch 80 Loss: 0.31802254915237427\n",
      "\tAccuracy: 0.9828571428571429\n",
      "Epoch 90 Loss: 0.31709831953048706\n",
      "\tAccuracy: 0.9831932773109243\n"
     ]
    },
    {
     "data": {
      "image/png": "[encoded data removed]",
      "text/plain": [
       "<matplotlib.figure.Figure at 0x24eba77dd30>"
      ]
     },
     "metadata": {},
     "output_type": "display_data"
    },
    {
     "name": "stdout",
     "output_type": "stream",
     "text": [
      "Final Accuracy: 0.9807692307692307\n"
     ]
    }
   ],
   "source": [
    "losses = []\n",
    "\n",
    "#Using batch gradient descent\n",
    "sess.run(tf.global_variables_initializer())\n",
    "\n",
    "displayStride = 10\n",
    "\n",
    "correct = 0\n",
    "for j in range(nEpochs):\n",
    "    nTraining = dataX.shape[0]-int(testSplit * len(dataX))\n",
    "    for i in range(0, nTraining, batchSize):\n",
    "        currBatchSize = min(batchSize, nTraining-i)\n",
    "        loss, acc, _ = sess.run([cost, accuracy, optimizer], feed_dict={X: dataX[i:i+currBatchSize].reshape(-1, nIn), \n",
    "                                                         Y: dataY[i:i+currBatchSize].reshape(-1, nOut)})\n",
    "        correct += acc * currBatchSize\n",
    "    if j % displayStride == 0:\n",
    "        acc = correct / (displayStride * nTraining)\n",
    "        print(\"Epoch {} Loss: {}\\n\\tAccuracy: {}\".format(j, loss, acc))\n",
    "        correct = 0\n",
    "        total = 0\n",
    "    if j % 5 == 0:\n",
    "        losses.append(loss)\n",
    "\n",
    "plt.plot(losses)\n",
    "plt.show()\n",
    "\n",
    "print(\"Final Accuracy: {}\".format(testAccuracy()))"
   ]
  }
 ],
 "metadata": {
  "kernelspec": {
   "display_name": "Python 3",
   "language": "python",
   "name": "python3"
  },
  "language_info": {
   "codemirror_mode": {
    "name": "ipython",
    "version": 3
   },
   "file_extension": ".py",
   "mimetype": "text/x-python",
   "name": "python",
   "nbconvert_exporter": "python",
   "pygments_lexer": "ipython3",
   "version": "3.5.0"
  }
 },
 "nbformat": 4,
 "nbformat_minor": 2
}

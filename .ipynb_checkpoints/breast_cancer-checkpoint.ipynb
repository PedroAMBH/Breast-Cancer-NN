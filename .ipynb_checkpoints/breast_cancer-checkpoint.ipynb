{
 "cells": [
  {
   "cell_type": "code",
   "execution_count": 1,
   "metadata": {
    "collapsed": true
   },
   "outputs": [],
   "source": [
    "import numpy as np\n",
    "from matplotlib import pyplot as plt\n",
    "import tensorflow as tf"
   ]
  },
  {
   "cell_type": "code",
   "execution_count": 2,
   "metadata": {
    "collapsed": true
   },
   "outputs": [],
   "source": [
    "np.random.seed(0)"
   ]
  },
  {
   "cell_type": "code",
   "execution_count": 3,
   "metadata": {
    "collapsed": true
   },
   "outputs": [],
   "source": [
    "#Read data from fie\n",
    "data = np.genfromtxt(\"breast-cancer.data\", delimiter=\",\", missing_values=\"?\", filling_values=1.)\n",
    "\n",
    "#Separate the X\n",
    "dataX = data[:, 1:-1]\n",
    "#Separate the Y\n",
    "pre_dataY = data[:, -1]\n",
    "#Convert the Y to one hot\n",
    "dataY = np.zeros((pre_dataY.size, 2))\n",
    "\n",
    "for i in range(len(pre_dataY)):\n",
    "    if pre_dataY[i] == 2:\n",
    "        dataY[i][0] = 1\n",
    "    else:\n",
    "        dataY[i][1] = 1"
   ]
  },
  {
   "cell_type": "code",
   "execution_count": 4,
   "metadata": {
    "collapsed": true
   },
   "outputs": [],
   "source": [
    "#Mix up the data\n",
    "permutation = np.random.permutation(dataX.shape[0])\n",
    "dataX = dataX[permutation]\n",
    "dataY = dataY[permutation]"
   ]
  },
  {
   "cell_type": "code",
   "execution_count": 5,
   "metadata": {
    "collapsed": true
   },
   "outputs": [],
   "source": [
    "#Set network variables and hyperparameters\n",
    "nIn = 9\n",
    "nHidden = 25\n",
    "nOut = 2\n",
    "alpha = 0.01\n",
    "nEpochs = 100\n",
    "testSplit = 0.15\n",
    "batchSize = 64"
   ]
  },
  {
   "cell_type": "code",
   "execution_count": 6,
   "metadata": {
    "collapsed": true
   },
   "outputs": [],
   "source": [
    "#Create palceholder for X and Y\n",
    "X = tf.placeholder(shape=[None, nIn], dtype=tf.float32)\n",
    "Y = tf.placeholder(shape=[None, nOut], dtype=tf.float32)"
   ]
  },
  {
   "cell_type": "code",
   "execution_count": 7,
   "metadata": {
    "collapsed": true
   },
   "outputs": [],
   "source": [
    "#Initialize wieghts and biases\n",
    "weights = {\"W1\": tf.Variable(tf.random_normal([nIn, nHidden]) * 0.5),\n",
    "           \"W2\": tf.Variable(tf.random_normal([nHidden, nOut]) * 0.5)}\n",
    "\n",
    "biases = {\"b1\": tf.Variable(tf.zeros([nHidden])),\n",
    "           \"b2\": tf.Variable(tf.zeros([nOut]))}"
   ]
  },
  {
   "cell_type": "code",
   "execution_count": 8,
   "metadata": {
    "collapsed": true
   },
   "outputs": [],
   "source": [
    "#Forward propogation\n",
    "def nn_forward(X):\n",
    "    \n",
    "    layer2 = tf.nn.bias_add(tf.matmul(X, weights[\"W1\"]), biases[\"b1\"])\n",
    "    layer2 = tf.nn.sigmoid(layer2)\n",
    "    \n",
    "    out = tf.nn.bias_add(tf.matmul(layer2, weights[\"W2\"]), biases[\"b2\"])\n",
    "    \n",
    "    return out"
   ]
  },
  {
   "cell_type": "code",
   "execution_count": 9,
   "metadata": {},
   "outputs": [],
   "source": [
    "#Network prediction\n",
    "pred = nn_forward(X)\n",
    "#Loss/Cost\n",
    "cost = tf.reduce_mean(tf.nn.softmax_cross_entropy_with_logits(logits=pred, labels=Y))\n",
    "#Backpropagation & Network updates\n",
    "optimizer = tf.train.AdamOptimizer(learning_rate=alpha).minimize(cost)\n",
    "accuracy = tf.reduce_mean(tf.cast(tf.equal(tf.argmax(pred, axis=1), tf.argmax(Y, axis=1)), tf.float32))"
   ]
  },
  {
   "cell_type": "code",
   "execution_count": 10,
   "metadata": {
    "collapsed": true
   },
   "outputs": [],
   "source": [
    "#Number of data points used for testing\n",
    "num_test = int(testSplit * len(data))\n",
    "\n",
    "#Split data into train and test\n",
    "trainX = dataX[:-num_test]\n",
    "testX = dataX[-num_test:]\n",
    "\n",
    "trainY = dataY[:-num_test]\n",
    "testY = dataY[-num_test:]"
   ]
  },
  {
   "cell_type": "code",
   "execution_count": 11,
   "metadata": {},
   "outputs": [
    {
     "name": "stdout",
     "output_type": "stream",
     "text": [
      "Epoch 0 Loss: 0.21748948097229004\n",
      "\tAccuracy: 0.09243697478991597\n",
      "Epoch 10 Loss: 0.46592941880226135\n",
      "\tAccuracy: 0.9608403361344537\n",
      "Epoch 20 Loss: 0.7369223833084106\n",
      "\tAccuracy: 0.9665546218487395\n",
      "Epoch 30 Loss: 1.0240371227264404\n",
      "\tAccuracy: 0.9630252100840336\n",
      "Epoch 40 Loss: 1.3163930177688599\n",
      "\tAccuracy: 0.966218487394958\n",
      "Epoch 50 Loss: 0.008336152881383896\n",
      "\tAccuracy: 0.9672268907563025\n",
      "Epoch 60 Loss: 0.3384079337120056\n",
      "\tAccuracy: 0.9694117647058823\n",
      "Epoch 70 Loss: 1.299272060394287\n",
      "\tAccuracy: 0.9702521008403361\n",
      "Epoch 80 Loss: 0.007958370260894299\n",
      "\tAccuracy: 0.9689075630252101\n",
      "Epoch 90 Loss: 0.00701571349054575\n",
      "\tAccuracy: 0.9712605042016806\n"
     ]
    },
    {
     "data": {
      "image/png": "[encoded data removed]",
      "text/plain": [
       "<matplotlib.figure.Figure at 0x249a8a39198>"
      ]
     },
     "metadata": {},
     "output_type": "display_data"
    },
    {
     "ename": "NameError",
     "evalue": "name 'testAccuracy' is not defined",
     "output_type": "error",
     "traceback": [
      "\u001b[1;31m---------------------------------------------------------------------------\u001b[0m",
      "\u001b[1;31mNameError\u001b[0m                                 Traceback (most recent call last)",
      "\u001b[1;32m<ipython-input-11-35cad28e1758>\u001b[0m in \u001b[0;36m<module>\u001b[1;34m()\u001b[0m\n\u001b[0;32m     23\u001b[0m \u001b[0mplt\u001b[0m\u001b[1;33m.\u001b[0m\u001b[0mshow\u001b[0m\u001b[1;33m(\u001b[0m\u001b[1;33m)\u001b[0m\u001b[1;33m\u001b[0m\u001b[0m\n\u001b[0;32m     24\u001b[0m \u001b[1;33m\u001b[0m\u001b[0m\n\u001b[1;32m---> 25\u001b[1;33m \u001b[0mprint\u001b[0m\u001b[1;33m(\u001b[0m\u001b[1;34m\"Final Accuracy: {}\"\u001b[0m\u001b[1;33m.\u001b[0m\u001b[0mformat\u001b[0m\u001b[1;33m(\u001b[0m\u001b[0mtestAccuracy\u001b[0m\u001b[1;33m(\u001b[0m\u001b[1;33m)\u001b[0m\u001b[1;33m)\u001b[0m\u001b[1;33m)\u001b[0m\u001b[1;33m\u001b[0m\u001b[0m\n\u001b[0m",
      "\u001b[1;31mNameError\u001b[0m: name 'testAccuracy' is not defined"
     ]
    }
   ],
   "source": [
    "losses = []\n",
    "displayStride = 10\n",
    "\n",
    "with tf.Session() as sess:\n",
    "    sess.run(tf.global_variables_initializer())\n",
    "\n",
    "    correct = 0\n",
    "    for j in range(nEpochs):\n",
    "        nTraining = dataX.shape[0]-int(testSplit * len(dataX))\n",
    "        for i in range(nTraining):\n",
    "            loss, acc, _ = sess.run([cost, accuracy, optimizer], \n",
    "                                         feed_dict={X: dataX[i].reshape(-1, nIn), Y: dataY[i].reshape(-1, nOut)})\n",
    "            correct += acc\n",
    "        if j % displayStride == 0:\n",
    "            acc = correct / (displayStride * nTraining)\n",
    "            print(\"Epoch {} Loss: {}\\n\\tAccuracy: {}\".format(j, loss, acc))\n",
    "            correct = 0\n",
    "            total = 0\n",
    "        if j % 5 == 0:\n",
    "            losses.append(loss)\n",
    "\n",
    "    plt.plot(losses)\n",
    "    plt.show()\n",
    "\n",
    "    print(\"Final Accuracy: {}\".format(sess.run(accuracy, feed_dict={X: testX.reshape(-1, nIn), Y: testY.reshape(-1, nOut)})))"
   ]
  },
  {
   "cell_type": "code",
   "execution_count": null,
   "metadata": {
    "collapsed": true
   },
   "outputs": [],
   "source": [
    "print(\"Accuracy:\", )"
   ]
  }
 ],
 "metadata": {
  "kernelspec": {
   "display_name": "Python 3",
   "language": "python",
   "name": "python3"
  },
  "language_info": {
   "codemirror_mode": {
    "name": "ipython",
    "version": 3
   },
   "file_extension": ".py",
   "mimetype": "text/x-python",
   "name": "python",
   "nbconvert_exporter": "python",
   "pygments_lexer": "ipython3",
   "version": "3.5.0"
  }
 },
 "nbformat": 4,
 "nbformat_minor": 2
}

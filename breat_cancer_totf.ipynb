{
 "cells": [
  {
   "cell_type": "code",
   "execution_count": 1,
   "metadata": {
    "collapsed": true
   },
   "outputs": [],
   "source": [
    "import numpy as np\n",
    "from matplotlib import pyplot as plt\n",
    "from sklearn import datasets"
   ]
  },
  {
   "cell_type": "code",
   "execution_count": 2,
   "metadata": {
    "collapsed": true
   },
   "outputs": [],
   "source": [
    "np.random.seed(0)"
   ]
  },
  {
   "cell_type": "code",
   "execution_count": 3,
   "metadata": {},
   "outputs": [
    {
     "data": {
      "image/png": "[encoded data removed]",
      "text/plain": [
       "<matplotlib.figure.Figure at 0x27f409bbfd0>"
      ]
     },
     "metadata": {},
     "output_type": "display_data"
    }
   ],
   "source": [
    "def sigmoid(x):\n",
    "    return 1/(1+np.exp(-x))\n",
    "\n",
    "def sigmoidPrime(x):\n",
    "    return sigmoid(x) * (1-sigmoid(x))\n",
    "\n",
    "t = np.arange(-5., 5., 0.5)\n",
    "plt.plot(t, sigmoid(t))\n",
    "plt.plot(t, sigmoidPrime(t))\n",
    "plt.show()"
   ]
  },
  {
   "cell_type": "code",
   "execution_count": 4,
   "metadata": {
    "collapsed": true
   },
   "outputs": [],
   "source": [
    "def converter(x):\n",
    "    if x == 2:\n",
    "        return [1, 0]\n",
    "    else:\n",
    "        return [0, 1]\n",
    "    \n",
    "vconverter = np.vectorize(converter)\n",
    "\n",
    "data = np.genfromtxt(\"breast-cancer.data\", delimiter=\",\", missing_values=\"?\", filling_values=1.)\n",
    "\n",
    "dataX = data[:, 1:-1]\n",
    "pre_dataY = data[:, -1]\n",
    "dataY = np.zeros((pre_dataY.size, 2))\n",
    "\n",
    "for i in range(len(pre_dataY)):\n",
    "    if pre_dataY[i] == 2:\n",
    "        dataY[i][0] = 1\n",
    "    else:\n",
    "        dataY[i][1] = 1"
   ]
  },
  {
   "cell_type": "code",
   "execution_count": 5,
   "metadata": {
    "collapsed": true
   },
   "outputs": [],
   "source": [
    "permutation = np.random.permutation(dataX.shape[0])\n",
    "dataX = dataX[permutation]\n",
    "dataY = dataY[permutation]"
   ]
  },
  {
   "cell_type": "code",
   "execution_count": 24,
   "metadata": {
    "collapsed": true
   },
   "outputs": [],
   "source": [
    "nIn = 9\n",
    "nHidden = 25\n",
    "nOut = 2\n",
    "alpha = 0.01\n",
    "nEpochs = 800\n",
    "testSplit = 0.15"
   ]
  },
  {
   "cell_type": "code",
   "execution_count": 20,
   "metadata": {
    "collapsed": true
   },
   "outputs": [],
   "source": [
    "def nn_forward(X, W1, W2):\n",
    "    x = X.reshape(-1, nIn)\n",
    "    \n",
    "    layer2 = np.dot(x, W1)\n",
    "    layer2 = sigmoid(layer2)\n",
    "    \n",
    "    out = np.dot(layer2, W2)\n",
    "    out = sigmoid(out)\n",
    "    \n",
    "    return out"
   ]
  },
  {
   "cell_type": "code",
   "execution_count": 8,
   "metadata": {
    "collapsed": true
   },
   "outputs": [],
   "source": [
    "def train(X, Y, W1, W2):\n",
    "    x = X.reshape(-1, nIn)\n",
    "    Y = Y.reshape(-1, nOut)\n",
    "    \n",
    "    layer2 = np.dot(x, W1)\n",
    "    a_layer2 = sigmoid(layer2)\n",
    "    \n",
    "    out = np.dot(a_layer2, W2)\n",
    "    a_out = sigmoid(out)\n",
    "    \n",
    "    if np.argmax(a_out) == np.argmax(Y):\n",
    "        accuracy = 1\n",
    "    else:\n",
    "        accuracy = 0\n",
    "    \n",
    "    loss = np.sum(0.5 * (Y - a_out) ** 2)\n",
    "    \n",
    "    delta_loss = (Y - a_out) * -sigmoidPrime(out)\n",
    "    delta_W2 = np.dot(layer2.T, delta_loss)\n",
    "    \n",
    "    delta_loss = np.dot(delta_loss, W2.T) * sigmoidPrime(layer2)\n",
    "    delta_W1 = np.dot(X.T.reshape(nIn, 1), delta_loss)\n",
    "    \n",
    "    W2 = W2 - alpha * delta_W2\n",
    "    W1 = W1 - alpha * delta_W1\n",
    "    \n",
    "    return W1, W2, loss, accuracy"
   ]
  },
  {
   "cell_type": "code",
   "execution_count": 25,
   "metadata": {
    "collapsed": true
   },
   "outputs": [],
   "source": [
    "losses = []\n",
    "W1 = np.random.rand(nIn, nHidden) * 0.5\n",
    "W2 = np.random.rand(nHidden, nOut) * 0.5"
   ]
  },
  {
   "cell_type": "code",
   "execution_count": 26,
   "metadata": {},
   "outputs": [
    {
     "name": "stdout",
     "output_type": "stream",
     "text": [
      "Epoch 0 Loss: 0.5298472755331531\n",
      "\tAccuracy: 0.012907563025210084\n",
      "Epoch 50 Loss: 0.3313208782177386\n",
      "\tAccuracy: 0.6571428571428571\n",
      "Epoch 100 Loss: 0.2641511642383704\n",
      "\tAccuracy: 0.4150924369747899\n",
      "Epoch 150 Loss: 0.2813348789620822\n",
      "\tAccuracy: 0.4266218487394958\n",
      "Epoch 200 Loss: 0.2835899242457942\n",
      "\tAccuracy: 0.4459495798319328\n",
      "Epoch 250 Loss: 0.2844622437260139\n",
      "\tAccuracy: 0.4517310924369748\n"
     ]
    },
    {
     "name": "stderr",
     "output_type": "stream",
     "text": [
      "C:\\ProgramData\\Anaconda3\\lib\\site-packages\\ipykernel_launcher.py:2: RuntimeWarning: overflow encountered in exp\n",
      "  \n"
     ]
    },
    {
     "name": "stdout",
     "output_type": "stream",
     "text": [
      "Epoch 300 Loss: 0.2849161484516123\n",
      "\tAccuracy: 0.456\n",
      "Epoch 350 Loss: 0.285448239747488\n",
      "\tAccuracy: 0.4611764705882353\n",
      "Epoch 400 Loss: 0.28645851711485887\n",
      "\tAccuracy: 0.46073949579831935\n",
      "Epoch 450 Loss: 0.2865946982938425\n",
      "\tAccuracy: 0.46205042016806724\n",
      "Epoch 500 Loss: 0.28711022669724395\n",
      "\tAccuracy: 0.4653109243697479\n",
      "Epoch 550 Loss: 0.28653048417272464\n",
      "\tAccuracy: 0.4698823529411765\n",
      "Epoch 600 Loss: 0.621376055189816\n",
      "\tAccuracy: 0.5494117647058824\n",
      "Epoch 650 Loss: 0.4508293908045732\n",
      "\tAccuracy: 0.9009411764705882\n",
      "Epoch 700 Loss: 0.13082073724203336\n",
      "\tAccuracy: 0.9585210084033613\n",
      "Epoch 750 Loss: 0.16168901121112988\n",
      "\tAccuracy: 0.9611428571428572\n"
     ]
    },
    {
     "data": {
      "image/png": "[encoded data removed]",
      "text/plain": [
       "<matplotlib.figure.Figure at 0x27f412ab470>"
      ]
     },
     "metadata": {},
     "output_type": "display_data"
    }
   ],
   "source": [
    "correct = 0\n",
    "for j in range(nEpochs):\n",
    "    nTraining = dataX.shape[0]-int(testSplit * len(dataX))\n",
    "    for i in range(nTraining):\n",
    "        W1, W2, loss, c = train(dataX[i], dataY[i], W1, W2)\n",
    "        correct += c\n",
    "    if j % 50 == 0:\n",
    "        accuracy = correct / (50 * nTraining)\n",
    "        print(\"Epoch {} Loss: {}\\n\\tAccuracy: {}\".format(j, loss, accuracy))\n",
    "        correct = 0\n",
    "        total = 0\n",
    "    if j % 5 == 0:\n",
    "        losses.append(loss)\n",
    "\n",
    "plt.plot(losses)\n",
    "plt.show()"
   ]
  },
  {
   "cell_type": "code",
   "execution_count": 27,
   "metadata": {},
   "outputs": [
    {
     "name": "stdout",
     "output_type": "stream",
     "text": [
      "Accuracy: 0.9519230769230769%\n"
     ]
    },
    {
     "name": "stderr",
     "output_type": "stream",
     "text": [
      "C:\\ProgramData\\Anaconda3\\lib\\site-packages\\ipykernel_launcher.py:2: RuntimeWarning: overflow encountered in exp\n",
      "  \n"
     ]
    }
   ],
   "source": [
    "correct = 0\n",
    "total = int(testSplit * len(dataX))\n",
    "\n",
    "for i in range(total):\n",
    "    index = len(dataX) - int(testSplit * len(dataX)) + i\n",
    "    pred = np.argmax(nn_forward(dataX[index], W1, W2))+1\n",
    "    actual = np.argmax(dataY[index])+1\n",
    "    \n",
    "    #print(\"Prediction: Type {}\".format(pred))\n",
    "    #print(\"Actual: Type {}\\n\".format(actual))\n",
    "    \n",
    "    if pred == actual:\n",
    "        correct += 1\n",
    "    \n",
    "print(\"Accuracy: {}%\".format(correct/total))"
   ]
  }
 ],
 "metadata": {
  "kernelspec": {
   "display_name": "Python 3",
   "language": "python",
   "name": "python3"
  },
  "language_info": {
   "codemirror_mode": {
    "name": "ipython",
    "version": 3
   },
   "file_extension": ".py",
   "mimetype": "text/x-python",
   "name": "python",
   "nbconvert_exporter": "python",
   "pygments_lexer": "ipython3",
   "version": "3.5.0"
  }
 },
 "nbformat": 4,
 "nbformat_minor": 2
}
